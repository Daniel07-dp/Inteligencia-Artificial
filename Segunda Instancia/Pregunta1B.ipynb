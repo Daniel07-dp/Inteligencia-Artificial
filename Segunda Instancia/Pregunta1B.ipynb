{
  "nbformat": 4,
  "nbformat_minor": 0,
  "metadata": {
    "colab": {
      "provenance": []
    },
    "kernelspec": {
      "name": "python3",
      "display_name": "Python 3"
    },
    "language_info": {
      "name": "python"
    }
  },
  "cells": [
    {
      "cell_type": "code",
      "execution_count": 1,
      "metadata": {
        "colab": {
          "base_uri": "https://localhost:8080/"
        },
        "id": "wELK7GefuaF6",
        "outputId": "0c1c9cc0-1b83-4e58-daec-2f3895aad1ee"
      },
      "outputs": [
        {
          "output_type": "stream",
          "name": "stdout",
          "text": [
            "[5.226209897457354, 9.454151699771016, 0.07911617905354329]\n"
          ]
        }
      ],
      "source": [
        "import random\n",
        "\n",
        "#Función de aptitud que mide la distancia entre los puntos\n",
        "def fitness(chromosome):\n",
        "    distance = max(chromosome) - min(chromosome)\n",
        "    return distance\n",
        "\n",
        "#Función de cruce\n",
        "def crossover(chromosome1, chromosome2):\n",
        "    crossover_point = random.randint(1,2)\n",
        "    offspring1 = chromosome1[:crossover_point] + chromosome2[crossover_point:]\n",
        "    offspring2 = chromosome2[:crossover_point] + chromosome1[crossover_point:]\n",
        "    return offspring1, offspring2\n",
        "\n",
        "#Función de mutación\n",
        "def mutation(chromosome):\n",
        "    mutation_point = random.randint(0,2)\n",
        "    chromosome[mutation_point] = random.uniform(0, 10)\n",
        "    return chromosome\n",
        "\n",
        "#Inicialización de la población\n",
        "population = [[random.uniform(0,10) for _ in range(3)] for _ in range(10)]\n",
        "\n",
        "#Parámetros del algoritmo\n",
        "num_generations = 100\n",
        "mutation_rate = 0.1\n",
        "\n",
        "#Bucle principal del algoritmo\n",
        "for i in range(num_generations):\n",
        "    #Evaluación de la población\n",
        "    population = sorted(population, key=fitness, reverse=True)\n",
        "    #Selección de los mejores individuos para reproducción\n",
        "    parents = population[:5]\n",
        "    #Creación de una nueva generación\n",
        "    offspring = []\n",
        "    while len(offspring) < 5:\n",
        "        #Cruce\n",
        "        parent1 = random.choice(parents)\n",
        "        parent2 = random.choice(parents)\n",
        "        child1, child2 = crossover(parent1, parent2)\n",
        "        #Mutación\n",
        "        if random.random() < mutation_rate:\n",
        "            child1 = mutation(child1)\n",
        "        if random.random() < mutation_rate:\n",
        "            child2 = mutation(child2)\n",
        "        #Añadir los hijos a la nueva generación\n",
        "        offspring.append(child1)\n",
        "        offspring.append(child2)\n",
        "    #Reemplazar la población actual por la nueva generación\n",
        "    population = parents + offspring\n",
        "\n",
        "#Obtener la mejor solución\n",
        "best_solution = max(population, key=fitness)\n",
        "print(best_solution)"
      ]
    }
  ]
}