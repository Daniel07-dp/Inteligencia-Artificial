Codigo ROMPECABEZAS  --- PATZI HUMERES DANIEL
{
 "cells": [
  {
   "cell_type": "code",
   "execution_count": 22,
   "metadata": {},
   "outputs": [
    {
     "name": "stdout",
     "output_type": "stream",
     "text": [
      "[1, 2, 3, 4, 5]\n",
      "[5, 4, 3, 2, 1]\n"
     ]
    }
   ],
   "source": [
    "n = int(input())\n",
    "datos = []\n",
    "\n",
    "for i in range(1,n+1):\n",
    "    datos = datos + [i]\n",
    "    #print(i)\n",
    "\n",
    "\n",
    "print(datos)\n",
    "print(sorted(datos, reverse=True))\n"
   ]
  }
 ],
 "metadata": {
  "kernelspec": {
   "display_name": "Python 3.10.6 64-bit",
   "language": "python",
   "name": "python3"
  },
  "language_info": {
   "codemirror_mode": {
    "name": "ipython",
    "version": 3
   },
   "file_extension": ".py",
   "mimetype": "text/x-python",
   "name": "python",
   "nbconvert_exporter": "python",
   "pygments_lexer": "ipython3",
   "version": "3.10.6"
  },
  "orig_nbformat": 4,
  "vscode": {
   "interpreter": {
    "hash": "221088bc405a8ad596b72a81c8e132fea2c8e3828e2da0839505f0461504a78e"
   }
  }
 },
 "nbformat": 4,
 "nbformat_minor": 2
}
